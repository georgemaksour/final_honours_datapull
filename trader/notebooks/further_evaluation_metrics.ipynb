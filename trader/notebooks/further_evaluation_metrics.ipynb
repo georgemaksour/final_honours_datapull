{
 "cells": [
  {
   "cell_type": "code",
   "execution_count": 2,
   "metadata": {
    "collapsed": true,
    "ExecuteTime": {
     "start_time": "2023-04-18T16:54:43.538691Z",
     "end_time": "2023-04-18T16:54:44.107991Z"
    }
   },
   "outputs": [],
   "source": [
    "# Dealing with imports\n",
    "import pandas as pd\n",
    "import seaborn as sns\n",
    "import matplotlib.pyplot as plt"
   ]
  },
  {
   "cell_type": "code",
   "execution_count": 20,
   "outputs": [
    {
     "name": "stdout",
     "output_type": "stream",
     "text": [
      "Filename:  results_drl_a2c.csv\n",
      "Number of episodes:  62520\n",
      "Filename:  results_drl_a2c_lstm.csv\n",
      "Number of episodes:  62520\n",
      "Filename:  results_drl_ppo2.csv\n",
      "Number of episodes:  62520\n",
      "Filename:  results_drl_dqn.csv\n",
      "Number of episodes:  62520\n",
      "Filename:  results_drl_acer.csv\n",
      "Number of episodes:  62520\n",
      "Filename:  results_drl_acer_lstm.csv\n",
      "Number of episodes:  62520\n"
     ]
    }
   ],
   "source": [
    "MODEL_NAMES = ['a2c', 'a2c_lstm', 'ppo2', 'dqn', 'acer', 'acer_lstm']\n",
    "MAPPING_DICTIONARY ={\n",
    "    'a2c': 'A2C',\n",
    "    'a2c_lstm': 'A2C (LSTM)',\n",
    "    'ppo2': 'PPO2',\n",
    "    'dqn': 'DQN',\n",
    "    'acer': 'ACER',\n",
    "    'acer_lstm': 'ACER (LSTM)'\n",
    "}\n",
    "\n",
    "# Function to get dataframe in 10 seperate spots\n",
    "def get_nlength(n):\n",
    "    ep_summary = []\n",
    "    for i in range(1, 11):\n",
    "        for j in range(0, int(n/10)):\n",
    "            ep_summary.append(i)\n",
    "    return ep_summary\n",
    "\n",
    "data_capture = []\n",
    "for model in MODEL_NAMES:\n",
    "    data = pd.read_csv(f'../staging/results_drl_{model}.csv')\n",
    "    print('Filename: ', f'results_drl_{model}.csv')\n",
    "    print('Number of episodes: ', data.shape[0])\n",
    "    ep_sum = get_nlength(data.shape[0])\n",
    "    data['divisor'] = ep_sum\n",
    "    data['episode_number'] = data.index\n",
    "    data['model_name'] = MAPPING_DICTIONARY[model]\n",
    "    data_capture.append(data)\n",
    "\n",
    "episode_data = pd.concat(data_capture)"
   ],
   "metadata": {
    "collapsed": false,
    "ExecuteTime": {
     "start_time": "2023-04-18T17:26:49.025732Z",
     "end_time": "2023-04-18T17:26:50.827974Z"
    }
   }
  },
  {
   "cell_type": "code",
   "execution_count": 21,
   "outputs": [
    {
     "data": {
      "text/plain": "   number_of_wins  number_of_losses  number_of_trades  number_of_holds  \\\n0            79.0                38               134              153   \n1            55.0                36               117              149   \n2            54.0                67               122              119   \n3            57.0                46               124              137   \n4            63.0                40               120              137   \n\n   net_worth  divisor  episode_number model_name  Number_of_wins  \n0       4.36        1               0        A2C             NaN  \n1      -7.22        1               1        A2C             NaN  \n2      -4.59        1               2        A2C             NaN  \n3     110.65        1               3        A2C             NaN  \n4      -2.44        1               4        A2C             NaN  ",
      "text/html": "<div>\n<style scoped>\n    .dataframe tbody tr th:only-of-type {\n        vertical-align: middle;\n    }\n\n    .dataframe tbody tr th {\n        vertical-align: top;\n    }\n\n    .dataframe thead th {\n        text-align: right;\n    }\n</style>\n<table border=\"1\" class=\"dataframe\">\n  <thead>\n    <tr style=\"text-align: right;\">\n      <th></th>\n      <th>number_of_wins</th>\n      <th>number_of_losses</th>\n      <th>number_of_trades</th>\n      <th>number_of_holds</th>\n      <th>net_worth</th>\n      <th>divisor</th>\n      <th>episode_number</th>\n      <th>model_name</th>\n      <th>Number_of_wins</th>\n    </tr>\n  </thead>\n  <tbody>\n    <tr>\n      <th>0</th>\n      <td>79.0</td>\n      <td>38</td>\n      <td>134</td>\n      <td>153</td>\n      <td>4.36</td>\n      <td>1</td>\n      <td>0</td>\n      <td>A2C</td>\n      <td>NaN</td>\n    </tr>\n    <tr>\n      <th>1</th>\n      <td>55.0</td>\n      <td>36</td>\n      <td>117</td>\n      <td>149</td>\n      <td>-7.22</td>\n      <td>1</td>\n      <td>1</td>\n      <td>A2C</td>\n      <td>NaN</td>\n    </tr>\n    <tr>\n      <th>2</th>\n      <td>54.0</td>\n      <td>67</td>\n      <td>122</td>\n      <td>119</td>\n      <td>-4.59</td>\n      <td>1</td>\n      <td>2</td>\n      <td>A2C</td>\n      <td>NaN</td>\n    </tr>\n    <tr>\n      <th>3</th>\n      <td>57.0</td>\n      <td>46</td>\n      <td>124</td>\n      <td>137</td>\n      <td>110.65</td>\n      <td>1</td>\n      <td>3</td>\n      <td>A2C</td>\n      <td>NaN</td>\n    </tr>\n    <tr>\n      <th>4</th>\n      <td>63.0</td>\n      <td>40</td>\n      <td>120</td>\n      <td>137</td>\n      <td>-2.44</td>\n      <td>1</td>\n      <td>4</td>\n      <td>A2C</td>\n      <td>NaN</td>\n    </tr>\n  </tbody>\n</table>\n</div>"
     },
     "execution_count": 21,
     "metadata": {},
     "output_type": "execute_result"
    }
   ],
   "source": [
    "episode_data.head()"
   ],
   "metadata": {
    "collapsed": false,
    "ExecuteTime": {
     "start_time": "2023-04-18T17:27:02.768335Z",
     "end_time": "2023-04-18T17:27:03.818462Z"
    }
   }
  },
  {
   "cell_type": "code",
   "execution_count": null,
   "outputs": [],
   "source": [],
   "metadata": {
    "collapsed": false
   }
  }
 ],
 "metadata": {
  "kernelspec": {
   "display_name": "Python 3",
   "language": "python",
   "name": "python3"
  },
  "language_info": {
   "codemirror_mode": {
    "name": "ipython",
    "version": 2
   },
   "file_extension": ".py",
   "mimetype": "text/x-python",
   "name": "python",
   "nbconvert_exporter": "python",
   "pygments_lexer": "ipython2",
   "version": "2.7.6"
  }
 },
 "nbformat": 4,
 "nbformat_minor": 0
}
